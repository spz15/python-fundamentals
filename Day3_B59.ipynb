{
 "cells": [
  {
   "cell_type": "code",
   "execution_count": null,
   "id": "9536aa2a",
   "metadata": {},
   "outputs": [],
   "source": [
    "Continuation with strings :"
   ]
  },
  {
   "cell_type": "code",
   "execution_count": null,
   "id": "446e991e",
   "metadata": {},
   "outputs": [],
   "source": [
    "#Introduction to string methods :\n"
   ]
  },
  {
   "cell_type": "code",
   "execution_count": 1,
   "id": "4b018413",
   "metadata": {},
   "outputs": [
    {
     "name": "stdout",
     "output_type": "stream",
     "text": [
      "spz\n"
     ]
    }
   ],
   "source": [
    "name = 'spz'\n",
    "print(name)"
   ]
  },
  {
   "cell_type": "code",
   "execution_count": 2,
   "id": "e8e37a91",
   "metadata": {},
   "outputs": [
    {
     "data": {
      "text/plain": [
       "str"
      ]
     },
     "execution_count": 2,
     "metadata": {},
     "output_type": "execute_result"
    }
   ],
   "source": [
    "type(name)"
   ]
  },
  {
   "cell_type": "code",
   "execution_count": null,
   "id": "219755dd",
   "metadata": {},
   "outputs": [],
   "source": [
    "string   ----  str"
   ]
  },
  {
   "cell_type": "code",
   "execution_count": 3,
   "id": "2399ebbd",
   "metadata": {},
   "outputs": [
    {
     "name": "stdout",
     "output_type": "stream",
     "text": [
      "spz\n"
     ]
    }
   ],
   "source": [
    "name1 = 'spz'\n",
    "print(name1)"
   ]
  },
  {
   "cell_type": "code",
   "execution_count": 4,
   "id": "204d786d",
   "metadata": {},
   "outputs": [
    {
     "data": {
      "text/plain": [
       "str"
      ]
     },
     "execution_count": 4,
     "metadata": {},
     "output_type": "execute_result"
    }
   ],
   "source": [
    "type(name1)"
   ]
  },
  {
   "cell_type": "code",
   "execution_count": 5,
   "id": "0297b6bb",
   "metadata": {},
   "outputs": [
    {
     "name": "stdout",
     "output_type": "stream",
     "text": [
      "shubham zagade\n"
     ]
    }
   ],
   "source": [
    "fullname = 'shubham zagade'\n",
    "print(fullname)"
   ]
  },
  {
   "cell_type": "code",
   "execution_count": 6,
   "id": "24c385fa",
   "metadata": {},
   "outputs": [
    {
     "name": "stdout",
     "output_type": "stream",
     "text": [
      "Shubham Zagade\n"
     ]
    }
   ],
   "source": [
    "print(fullname.title())"
   ]
  },
  {
   "cell_type": "code",
   "execution_count": null,
   "id": "d8bc0648",
   "metadata": {},
   "outputs": [],
   "source": [
    "#requirement : i want to get the fullname in capital letters .... ?"
   ]
  },
  {
   "cell_type": "code",
   "execution_count": 7,
   "id": "f954e508",
   "metadata": {},
   "outputs": [
    {
     "name": "stdout",
     "output_type": "stream",
     "text": [
      "SHUBHAM ZAGADE\n"
     ]
    }
   ],
   "source": [
    "print(fullname.upper())"
   ]
  },
  {
   "cell_type": "code",
   "execution_count": null,
   "id": "66201bb4",
   "metadata": {},
   "outputs": [],
   "source": [
    "#requirement : i want to get the fullname in smallcase letters ....?"
   ]
  },
  {
   "cell_type": "code",
   "execution_count": 8,
   "id": "d422de31",
   "metadata": {},
   "outputs": [
    {
     "name": "stdout",
     "output_type": "stream",
     "text": [
      "shubham zagade\n"
     ]
    }
   ],
   "source": [
    "print(fullname.lower())"
   ]
  },
  {
   "cell_type": "code",
   "execution_count": null,
   "id": "dde63c1a",
   "metadata": {},
   "outputs": [],
   "source": [
    "#Introduction to f strings :"
   ]
  },
  {
   "cell_type": "code",
   "execution_count": null,
   "id": "568d5917",
   "metadata": {},
   "outputs": [],
   "source": [
    "*# general syntax for the f strings :*         *Imp*"
   ]
  },
  {
   "cell_type": "code",
   "execution_count": null,
   "id": "207036ab",
   "metadata": {},
   "outputs": [],
   "source": [
    "f \" custom message {placeholder1} { placeholder2}....{placeholder....n}\""
   ]
  },
  {
   "cell_type": "code",
   "execution_count": 13,
   "id": "5970d863",
   "metadata": {},
   "outputs": [],
   "source": [
    "firstname = 'shubham'\n",
    "lastname ='zagade'"
   ]
  },
  {
   "cell_type": "code",
   "execution_count": null,
   "id": "8dea4a85",
   "metadata": {},
   "outputs": [],
   "source": [
    "# requirements : get the full name .... ?"
   ]
  },
  {
   "cell_type": "code",
   "execution_count": 14,
   "id": "3dfca17e",
   "metadata": {},
   "outputs": [
    {
     "name": "stdout",
     "output_type": "stream",
     "text": [
      "shubham zagade\n"
     ]
    }
   ],
   "source": [
    "full_name = f\"{firstname} {lastname}\"\n",
    "print(full_name)"
   ]
  },
  {
   "cell_type": "code",
   "execution_count": null,
   "id": "ff3bb437",
   "metadata": {},
   "outputs": [],
   "source": [
    "*In correct format"
   ]
  },
  {
   "cell_type": "code",
   "execution_count": 15,
   "id": "a7a803f2",
   "metadata": {},
   "outputs": [
    {
     "name": "stdout",
     "output_type": "stream",
     "text": [
      "Shubham Zagade\n"
     ]
    }
   ],
   "source": [
    "print(full_name.title())"
   ]
  },
  {
   "cell_type": "code",
   "execution_count": null,
   "id": "b822e976",
   "metadata": {},
   "outputs": [],
   "source": [
    "*With the message"
   ]
  },
  {
   "cell_type": "code",
   "execution_count": 16,
   "id": "98566cc3",
   "metadata": {},
   "outputs": [
    {
     "name": "stdout",
     "output_type": "stream",
     "text": [
      "keep up the good work,Shubham Zagade\n"
     ]
    }
   ],
   "source": [
    "message = f\"keep up the good work,{full_name.title()}\"\n",
    "print(message)"
   ]
  },
  {
   "cell_type": "code",
   "execution_count": null,
   "id": "8f1baf88",
   "metadata": {},
   "outputs": [],
   "source": [
    "# Adding whitespaces to string :"
   ]
  },
  {
   "cell_type": "code",
   "execution_count": 17,
   "id": "66b719cf",
   "metadata": {},
   "outputs": [
    {
     "name": "stdout",
     "output_type": "stream",
     "text": [
      "favourite_language:pythonC++javacpascalcobal\n"
     ]
    }
   ],
   "source": [
    "print('favourite_language:pythonC++javacpascalcobal')"
   ]
  },
  {
   "cell_type": "code",
   "execution_count": 18,
   "id": "91ff301b",
   "metadata": {},
   "outputs": [
    {
     "name": "stdout",
     "output_type": "stream",
     "text": [
      "favourite_language : \n",
      "python\n",
      "C++\n",
      "java\n",
      "c\n",
      "pascal\n",
      "cobal\n"
     ]
    }
   ],
   "source": [
    "print('favourite_language : \\npython\\nC++\\njava\\nc\\npascal\\ncobal')"
   ]
  },
  {
   "cell_type": "code",
   "execution_count": null,
   "id": "0dc2382c",
   "metadata": {},
   "outputs": [],
   "source": [
    "\\n ---- new line delimiter"
   ]
  },
  {
   "cell_type": "code",
   "execution_count": 19,
   "id": "74fe05f1",
   "metadata": {},
   "outputs": [
    {
     "name": "stdout",
     "output_type": "stream",
     "text": [
      "favourite_language : \n",
      "\tpython\n",
      "\tC++\n",
      "\tjava\n",
      "\tc\n",
      "\tpascal\n",
      "\tcobal\n"
     ]
    }
   ],
   "source": [
    "print('favourite_language : \\n\\tpython\\n\\tC++\\n\\tjava\\n\\tc\\n\\tpascal\\n\\tcobal')"
   ]
  },
  {
   "cell_type": "code",
   "execution_count": null,
   "id": "dde27fb7",
   "metadata": {},
   "outputs": [],
   "source": [
    "\\t ---- tab delimiter"
   ]
  },
  {
   "cell_type": "code",
   "execution_count": null,
   "id": "25de99b9",
   "metadata": {},
   "outputs": [],
   "source": [
    "File ---- downloads ---- Notebook (.ipynb) format"
   ]
  }
 ],
 "metadata": {
  "kernelspec": {
   "display_name": "Python 3 (ipykernel)",
   "language": "python",
   "name": "python3"
  },
  "language_info": {
   "codemirror_mode": {
    "name": "ipython",
    "version": 3
   },
   "file_extension": ".py",
   "mimetype": "text/x-python",
   "name": "python",
   "nbconvert_exporter": "python",
   "pygments_lexer": "ipython3",
   "version": "3.9.12"
  }
 },
 "nbformat": 4,
 "nbformat_minor": 5
}
