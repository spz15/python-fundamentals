{
 "cells": [
  {
   "cell_type": "code",
   "execution_count": null,
   "id": "8858e5ed",
   "metadata": {},
   "outputs": [],
   "source": [
    "1. Understanding the variables in python "
   ]
  },
  {
   "cell_type": "code",
   "execution_count": null,
   "id": "927509c6",
   "metadata": {},
   "outputs": [],
   "source": [
    "# Rules for declaring the variables in python."
   ]
  },
  {
   "cell_type": "code",
   "execution_count": null,
   "id": "07642e85",
   "metadata": {},
   "outputs": [],
   "source": [
    "1. No namespace while declaring the variables."
   ]
  },
  {
   "cell_type": "code",
   "execution_count": 1,
   "id": "9e598c64",
   "metadata": {},
   "outputs": [
    {
     "ename": "SyntaxError",
     "evalue": "invalid syntax (1337994707.py, line 1)",
     "output_type": "error",
     "traceback": [
      "\u001b[1;36m  Input \u001b[1;32mIn [1]\u001b[1;36m\u001b[0m\n\u001b[1;33m    (first name = 'spz'\u001b[0m\n\u001b[1;37m           ^\u001b[0m\n\u001b[1;31mSyntaxError\u001b[0m\u001b[1;31m:\u001b[0m invalid syntax\n"
     ]
    }
   ],
   "source": [
    "(first name = 'spz'\n",
    " print(first name)"
   ]
  },
  {
   "cell_type": "code",
   "execution_count": null,
   "id": "8aedb897",
   "metadata": {},
   "outputs": [],
   "source": [
    "\n",
    "( (first name = 'spz'\n",
    " print(first name) its wrong. ) (Here namespace between first name not valid syntax) )"
   ]
  },
  {
   "cell_type": "code",
   "execution_count": null,
   "id": "82c8a826",
   "metadata": {},
   "outputs": [],
   "source": [
    "*Correct syantax:-"
   ]
  },
  {
   "cell_type": "code",
   "execution_count": 2,
   "id": "bc24678f",
   "metadata": {},
   "outputs": [
    {
     "name": "stdout",
     "output_type": "stream",
     "text": [
      "spz\n"
     ]
    }
   ],
   "source": [
    " firstname = 'spz'\n",
    " print(firstname)"
   ]
  },
  {
   "cell_type": "code",
   "execution_count": null,
   "id": "ed708a92",
   "metadata": {},
   "outputs": [],
   "source": [
    "2. A variable name should not start with a number.**(imp)"
   ]
  },
  {
   "cell_type": "code",
   "execution_count": 3,
   "id": "62a94dc2",
   "metadata": {},
   "outputs": [
    {
     "ename": "SyntaxError",
     "evalue": "invalid syntax (1985429147.py, line 1)",
     "output_type": "error",
     "traceback": [
      "\u001b[1;36m  Input \u001b[1;32mIn [3]\u001b[1;36m\u001b[0m\n\u001b[1;33m    (1name = 'spz'\u001b[0m\n\u001b[1;37m      ^\u001b[0m\n\u001b[1;31mSyntaxError\u001b[0m\u001b[1;31m:\u001b[0m invalid syntax\n"
     ]
    }
   ],
   "source": [
    "(1name = 'spz'\n",
    "print(1name) "
   ]
  },
  {
   "cell_type": "code",
   "execution_count": null,
   "id": "471eda63",
   "metadata": {},
   "outputs": [],
   "source": [
    "( (1name = 'spz'\n",
    "print(1name) wrong syntax) )"
   ]
  },
  {
   "cell_type": "code",
   "execution_count": null,
   "id": "a75d1965",
   "metadata": {},
   "outputs": [],
   "source": [
    "Correct syntax:-"
   ]
  },
  {
   "cell_type": "code",
   "execution_count": 4,
   "id": "91ebf2ec",
   "metadata": {},
   "outputs": [
    {
     "ename": "IndentationError",
     "evalue": "unexpected indent (2049585026.py, line 2)",
     "output_type": "error",
     "traceback": [
      "\u001b[1;36m  Input \u001b[1;32mIn [4]\u001b[1;36m\u001b[0m\n\u001b[1;33m    print(name1)\u001b[0m\n\u001b[1;37m    ^\u001b[0m\n\u001b[1;31mIndentationError\u001b[0m\u001b[1;31m:\u001b[0m unexpected indent\n"
     ]
    }
   ],
   "source": [
    "name1 = 'spz'\n",
    " print(name1)"
   ]
  },
  {
   "cell_type": "code",
   "execution_count": 5,
   "id": "a9f1e40f",
   "metadata": {},
   "outputs": [
    {
     "name": "stdout",
     "output_type": "stream",
     "text": [
      "spz\n"
     ]
    }
   ],
   "source": [
    "name1 = 'spz'\n",
    "print(name1)"
   ]
  },
  {
   "cell_type": "code",
   "execution_count": null,
   "id": "8cdbe374",
   "metadata": {},
   "outputs": [],
   "source": [
    "3. A variable name should not contain any special characters."
   ]
  },
  {
   "cell_type": "code",
   "execution_count": null,
   "id": "8d8cf743",
   "metadata": {},
   "outputs": [],
   "source": [
    " @$%& are special characters"
   ]
  },
  {
   "cell_type": "code",
   "execution_count": 6,
   "id": "d790ac79",
   "metadata": {},
   "outputs": [
    {
     "ename": "SyntaxError",
     "evalue": "invalid syntax (2008579498.py, line 1)",
     "output_type": "error",
     "traceback": [
      "\u001b[1;36m  Input \u001b[1;32mIn [6]\u001b[1;36m\u001b[0m\n\u001b[1;33m    name@ = 'spz'\u001b[0m\n\u001b[1;37m          ^\u001b[0m\n\u001b[1;31mSyntaxError\u001b[0m\u001b[1;31m:\u001b[0m invalid syntax\n"
     ]
    }
   ],
   "source": [
    "name@ = 'spz'\n",
    "print(name@)"
   ]
  },
  {
   "cell_type": "code",
   "execution_count": null,
   "id": "eb10d617",
   "metadata": {},
   "outputs": [],
   "source": [
    "4. For executing the cells we have to press Shift + enter button..."
   ]
  },
  {
   "cell_type": "code",
   "execution_count": null,
   "id": "95ddd7f1",
   "metadata": {},
   "outputs": [],
   "source": [
    "# Introduction to datatypes in python:-\n",
    "\n",
    "1. String ---- str\n",
    "2. Number ---- integer (int) and floats (float) (decimal)\n",
    "3. Lists ---- list\n",
    "4.  Tuples ---- tuple\n",
    "5.  Dictionaries ---- dict"
   ]
  },
  {
   "cell_type": "code",
   "execution_count": null,
   "id": "887fa7a7",
   "metadata": {},
   "outputs": [],
   "source": [
    "# Classification of datatypes in python:-\n",
    "1. Mutable ---- which we can edit and alter --- flexible in nature.\n",
    "2. Immutable ---- which we cannot able to edit or alter ---- fixed in nature."
   ]
  },
  {
   "cell_type": "code",
   "execution_count": null,
   "id": "d4435fe0",
   "metadata": {},
   "outputs": [],
   "source": [
    "# Introduction to string datatype:-\n",
    "\n",
    "*Defination:- A string is a series of characters declared in quotes.\n",
    "\n",
    "*Classification:- it is classified as an immutable datatype\n",
    "\n",
    "*How to declare the string datatype....?\n",
    "   3 approaches of declaring the string.\n",
    "   1. Single quote.\n",
    "   2. Double quote.\n",
    "   3. Triple quote."
   ]
  },
  {
   "cell_type": "code",
   "execution_count": 7,
   "id": "0397de3c",
   "metadata": {},
   "outputs": [
    {
     "name": "stdout",
     "output_type": "stream",
     "text": [
      "spz\n"
     ]
    }
   ],
   "source": [
    "name1 = 'spz'    #single quote\n",
    "print(name1)"
   ]
  },
  {
   "cell_type": "code",
   "execution_count": 8,
   "id": "62acbb0c",
   "metadata": {},
   "outputs": [
    {
     "name": "stdout",
     "output_type": "stream",
     "text": [
      "spz\n"
     ]
    }
   ],
   "source": [
    "name2 = \"spz\"  #Double quote\n",
    "print(name2)"
   ]
  },
  {
   "cell_type": "code",
   "execution_count": 9,
   "id": "06c4288a",
   "metadata": {},
   "outputs": [
    {
     "name": "stdout",
     "output_type": "stream",
     "text": [
      "spz\n"
     ]
    }
   ],
   "source": [
    "name3 = \"\"\"spz\"\"\" #Triple quote\n",
    "print(name3)"
   ]
  },
  {
   "cell_type": "code",
   "execution_count": null,
   "id": "67f887bc",
   "metadata": {},
   "outputs": [],
   "source": []
  },
  {
   "cell_type": "code",
   "execution_count": null,
   "id": "089c0c47",
   "metadata": {},
   "outputs": [],
   "source": []
  },
  {
   "cell_type": "code",
   "execution_count": null,
   "id": "adc50029",
   "metadata": {},
   "outputs": [],
   "source": []
  },
  {
   "cell_type": "code",
   "execution_count": null,
   "id": "35e767c7",
   "metadata": {},
   "outputs": [],
   "source": []
  },
  {
   "cell_type": "code",
   "execution_count": null,
   "id": "7519c0f3",
   "metadata": {},
   "outputs": [],
   "source": []
  },
  {
   "cell_type": "code",
   "execution_count": null,
   "id": "3593f883",
   "metadata": {},
   "outputs": [],
   "source": []
  },
  {
   "cell_type": "code",
   "execution_count": null,
   "id": "9eb4617b",
   "metadata": {},
   "outputs": [],
   "source": []
  }
 ],
 "metadata": {
  "kernelspec": {
   "display_name": "Python 3 (ipykernel)",
   "language": "python",
   "name": "python3"
  },
  "language_info": {
   "codemirror_mode": {
    "name": "ipython",
    "version": 3
   },
   "file_extension": ".py",
   "mimetype": "text/x-python",
   "name": "python",
   "nbconvert_exporter": "python",
   "pygments_lexer": "ipython3",
   "version": "3.9.12"
  }
 },
 "nbformat": 4,
 "nbformat_minor": 5
}
